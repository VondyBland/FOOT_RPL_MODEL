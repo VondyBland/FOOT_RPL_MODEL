{
 "cells": [
  {
   "cell_type": "code",
   "execution_count": null,
   "id": "206fa77d-022d-4ac3-944a-20149ae06fca",
   "metadata": {},
   "outputs": [],
   "source": [
    "'''\n",
    "TITLE: Econometric modeling of the number of points accumulated in RPL based on sports and other factors\n",
    "\n",
    "GOAL: What indicators does football in the RPL depend on?\n",
    "\n",
    "RESULT: [\n",
    "        Mostly - by average number of goals scored, goals conceded and passes per defensive action (PPDA).\n",
    "        Secondary - by quality of positional defence, how many moments team allows and how well it presses, how it copes under pressure. \n",
    "        meaning - xGA, PPDA, OPPDA and ODC are the most interesting indicators, the improvement of which teams should pay attention to, in the RPL, and if they are not Zenit.\n",
    "]\n",
    "'''"
   ]
  },
  {
   "cell_type": "code",
   "execution_count": null,
   "id": "f0be9d09-f48b-4ec8-bce7-b88a60b316dc",
   "metadata": {},
   "outputs": [],
   "source": [
    "\n",
    "import pandas as pd\n",
    "import csv\n",
    "import matplotlib.pyplot as plt\n",
    "import seaborn as sns\n",
    "pd.set_option('display.max_rows', None)\n",
    "pd.set_option('display.max_columns', None)\n",
    "\n",
    "from patsy import dmatrices\n",
    "from statsmodels.stats.outliers_influence import variance_inflation_factor\n",
    "import statsmodels.formula.api as sm\n",
    "import statsmodels.api as sma\n",
    "from scipy.stats import shapiro"
   ]
  },
  {
   "cell_type": "code",
   "execution_count": null,
   "id": "e50f5bab-db57-404f-aefa-41346a6868d8",
   "metadata": {},
   "outputs": [],
   "source": [
    "''' Creating DataFrames for each season ( 18/19; 19/20; 20/21 )'''\n",
    "\n",
    "rfpl_19 = pd.read_csv(r'C:\\Users\\admin\\OneDrive\\Kursach/test19.csv',index_col = [0])\n",
    "rfpl_20 = pd.read_csv(r'C:\\Users\\admin\\OneDrive\\Kursach/test20.csv',index_col = [0])\n",
    "rfpl_21 = pd.read_csv(r'C:\\Users\\admin\\OneDrive\\Kursach/test21.csv',index_col = [0])"
   ]
  },
  {
   "cell_type": "code",
   "execution_count": null,
   "id": "0f77c6c8-c297-45d6-8106-14e9de12a83a",
   "metadata": {},
   "outputs": [],
   "source": [
    "rfpl_19"
   ]
  },
  {
   "cell_type": "code",
   "execution_count": null,
   "id": "eff7c7ef-8474-4989-9adf-64594bbe3545",
   "metadata": {},
   "outputs": [],
   "source": [
    "rfpl_19['MEAN_PTS'] = round(rfpl_19['PTS']/rfpl_19['M'],2) \n",
    "rfpl_19['MEAN_xG'] = round(rfpl_19['xG']/rfpl_19['M'],2)\n",
    "rfpl_19['MEAN_xGA'] = round(rfpl_19['xGA']/rfpl_19['M'],2) \n",
    "rfpl_19['MEAN_G'] = round(rfpl_19['G']/rfpl_19['M'],2)\n",
    "rfpl_19['MEAN_GA'] = round(rfpl_19['GA']/rfpl_19['M'],2)\n",
    "rfpl_19['MEAN_DC'] = round(rfpl_19['DC']/rfpl_19['M'],2)\n",
    "rfpl_19['MEAN_ODC'] = round(rfpl_19['ODC']/rfpl_19['M'],2)\n",
    "\n",
    "rfpl_20['MEAN_PTS'] = round(rfpl_20['PTS']/rfpl_20['M'],2) \n",
    "rfpl_20['MEAN_xG'] = round(rfpl_20['xG']/rfpl_20['M'],2) \n",
    "rfpl_20['MEAN_xGA'] = round(rfpl_20['xGA']/rfpl_20['M'],2) \n",
    "rfpl_20['MEAN_G'] = round(rfpl_20['G']/rfpl_20['M'],2) \n",
    "rfpl_20['MEAN_GA'] = round(rfpl_20['GA']/rfpl_20['M'],2) \n",
    "rfpl_20['MEAN_DC'] = round(rfpl_20['DC']/rfpl_20['M'],2)\n",
    "rfpl_20['MEAN_ODC'] = round(rfpl_20['ODC']/rfpl_20['M'],2)\n",
    "\n",
    "\n",
    "rfpl_21['MEAN_PTS'] = round(rfpl_21['PTS']/rfpl_21['M'],2) \n",
    "rfpl_21['MEAN_xG'] = round(rfpl_21['xG']/rfpl_21['M'],2) \n",
    "rfpl_21['MEAN_xGA'] = round(rfpl_21['xGA']/rfpl_21['M'],2) \n",
    "rfpl_21['MEAN_G'] = round(rfpl_21['G']/rfpl_21['M'],2) \n",
    "rfpl_21['MEAN_GA'] = round(rfpl_21['GA']/rfpl_21['M'],2) \n",
    "rfpl_21['MEAN_DC'] = round(rfpl_21['DC']/rfpl_21['M'],2)\n",
    "rfpl_21['MEAN_ODC'] = round(rfpl_21['ODC']/rfpl_21['M'],2)"
   ]
  },
  {
   "cell_type": "code",
   "execution_count": null,
   "id": "e1140e3d-7eec-4bc4-9be8-559a94a64fca",
   "metadata": {},
   "outputs": [],
   "source": [
    "# Parsing - team value for each season for econometric-analysis \n",
    "\n",
    "url19 = 'https://www.championat.com/football/_russiapl/tournament/2973/' #2019\n",
    "tab19 = pd.read_html(url19)\n",
    "value_team_19 = tab19[7]\n",
    "\n",
    "url20 = 'https://www.championat.com/football/_russiapl/tournament/3953/' #2020\n",
    "tab20 = pd.read_html(url20)\n",
    "value_team_20 = tab20[7]\n",
    "\n",
    "url21 = 'https://www.championat.com/football/_russiapl/tournament/4465/' #2021\n",
    "tab21 = pd.read_html(url21)\n",
    "value_team_21 = tab21[7]\n",
    "\n",
    "# Creating dictionary, so df`s can be merged correctly\n",
    "team_dict = {'Зенит':'Zenit St. Petersburg','ЦСКА':'CSKA Moscow','Краснодар':'FC Krasnodar',\n",
    "             'Спартак М':'Spartak Moscow','Локомотив М':'Lokomotiv Moscow','Динамо М':'Dinamo Moscow',\n",
    "             'Рубин':'Rubin Kazan','Сочи':'PFC Sochi','Арсенал':'Arsenal Tula',\n",
    "             'Ростов':'FC Rostov','Ахмат':'FK Akhmat','Химки':'Khimki',\n",
    "             'Ротор':'FC Rotor Volgograd','Урал':'Ural','Уфа':'FC Ufa',\n",
    "             'Тамбов':'FC Tambov','Нижний Новгород':'Nizhny Novgorod','Крылья Советов':'Krylya Sovetov Samara',\n",
    "             'Пари Нижний Новгород':'Nizhny Novgorod','Оренбург':'FC Orenburg','Торпедо М':'Torpedo Moscow','Факел':'Fakel'}\n",
    "\n",
    "value_team_19 = value_team_19.replace({'Команда': team_dict})\n",
    "value_team_20 = value_team_20.replace({'Команда': team_dict})\n",
    "value_team_21 = value_team_21.replace({'Команда': team_dict})\n",
    "\n",
    "# Changing names to EN \n",
    "\n",
    "value_team_19.rename(columns={\"Команда\": \"Team\", \"Стоимость, €\": \"value_euro\",\"Игроки\":\"num_players\",\"Среднее, €\":\"value_per_player\"},inplace = True)\n",
    "value_team_20.rename(columns={\"Команда\": \"Team\", \"Стоимость, €\": \"value_euro\",\"Игроки\":\"num_players\",\"Среднее, €\":\"value_per_player\"},inplace = True)\n",
    "value_team_21.rename(columns={\"Команда\": \"Team\", \"Стоимость, €\": \"value_euro\",\"Игроки\":\"num_players\",\"Среднее, €\":\"value_per_player\"},inplace = True)\n",
    "\n",
    "# Deleting spaces between str-values\n",
    "value_team_19['value_euro'] = value_team_19['value_euro'].str.replace(' ', '')\n",
    "value_team_19['value_per_player'] = value_team_19['value_per_player'].str.replace(' ', '')\n",
    "\n",
    "value_team_20['value_euro'] = value_team_20['value_euro'].str.replace(' ', '')\n",
    "value_team_20['value_per_player'] = value_team_20['value_per_player'].str.replace(' ', '')\n",
    "\n",
    "value_team_21['value_euro'] = value_team_21['value_euro'].str.replace(' ', '')\n",
    "value_team_21['value_per_player'] = value_team_21['value_per_player'].str.replace(' ', '')\n",
    "\n",
    "# Converting str-columns into float\n",
    "\n",
    "value_team_19 = value_team_19.astype({'value_euro': 'float64','value_per_player': 'float64'})\n",
    "value_team_20 = value_team_20.astype({'value_euro': 'float64','value_per_player': 'float64'})\n",
    "value_team_21 = value_team_21.astype({'value_euro': 'float64','value_per_player': 'float64'})"
   ]
  },
  {
   "cell_type": "code",
   "execution_count": null,
   "id": "7ce9ca02-970c-47fc-a2bf-7fc90455ce68",
   "metadata": {},
   "outputs": [],
   "source": [
    "# Merging original and parsed DF`s by team name\n",
    "rfpl_19 = pd.merge(rfpl_19, value_team_19, on='Team')\n",
    "rfpl_20 = pd.merge(rfpl_20, value_team_20, on='Team')\n",
    "rfpl_21 = pd.merge(rfpl_21, value_team_21, on='Team')"
   ]
  },
  {
   "cell_type": "code",
   "execution_count": null,
   "id": "f3fd5e76-2ad5-44a8-9961-b447a9fb4aec",
   "metadata": {},
   "outputs": [],
   "source": [
    "rfpl_19"
   ]
  },
  {
   "cell_type": "code",
   "execution_count": null,
   "id": "cec618ec-5478-4a92-8894-2bcef8baa916",
   "metadata": {},
   "outputs": [],
   "source": [
    "# Merging them all into one df\n",
    "df = pd.concat([rfpl_19, rfpl_20, rfpl_21],ignore_index = True)"
   ]
  },
  {
   "cell_type": "code",
   "execution_count": null,
   "id": "b17f532c-ba4d-4e8e-bfaa-554b32d4b8af",
   "metadata": {},
   "outputs": [],
   "source": [
    "# Creating list with variables\n",
    "dependent_var = ['PTS', 'MEAN_xG','MEAN_xGA', 'MEAN_G','MEAN_GA', 'value_euro','num_players','value_per_player', 'PPDA','OPPDA','MEAN_DC','MEAN_ODC']"
   ]
  },
  {
   "cell_type": "code",
   "execution_count": null,
   "id": "953d91cc-0c4b-4548-a062-aad55aa3519d",
   "metadata": {},
   "outputs": [],
   "source": [
    "# Heatmapping them to look for false correlation and multycollinearity\n",
    "sns.heatmap(data = df[dependent_var].corr(), annot = True)"
   ]
  },
  {
   "cell_type": "code",
   "execution_count": null,
   "id": "c3747bb2-6ec6-4c9c-a1e0-bd1252ca7ce3",
   "metadata": {},
   "outputs": [],
   "source": [
    "# Creating list with variables for two models, based on expected results and real results\n",
    "xdependent_var = ['PTS', 'MEAN_xG','MEAN_xGA','value_euro', 'PPDA','OPPDA','MEAN_DC','MEAN_ODC']\n",
    "rdependent_var = ['PTS', 'MEAN_G','MEAN_GA','value_euro', 'PPDA','OPPDA','MEAN_DC','MEAN_ODC']"
   ]
  },
  {
   "cell_type": "code",
   "execution_count": null,
   "id": "3c79cb10-7c12-459f-b394-3c0a24b44e90",
   "metadata": {},
   "outputs": [],
   "source": [
    "'''\n",
    "xG-MODEL\n",
    "'''"
   ]
  },
  {
   "cell_type": "code",
   "execution_count": null,
   "id": "36723684-e785-403f-9fa3-df39b54f54e7",
   "metadata": {},
   "outputs": [],
   "source": [
    "# Heatmapping xg-model variables to look for false correlation and multycollinearity\n",
    "sns.heatmap(data = df[xdependent_var].corr(), annot = True)"
   ]
  },
  {
   "cell_type": "code",
   "execution_count": null,
   "id": "1d10facb-cbcc-4f61-b5fb-849bf7ae0c40",
   "metadata": {},
   "outputs": [],
   "source": [
    "# Creating Matrix of multilinear regression with PTS as dependent-variable and others as independent\n",
    "y, X = dmatrices('PTS ~ MEAN_xG + MEAN_xGA + value_euro + PPDA + OPPDA + MEAN_DC + MEAN_ODC', data=df[xdependent_var], return_type='dataframe')\n",
    "\n",
    "# Calculating Variance inflation factor\n",
    "vif_exp = pd.DataFrame()\n",
    "vif_exp['VIF'] = [variance_inflation_factor(X.values, i) for i in range(X.shape[1])]\n",
    "vif_exp['variable'] = X.columns\n",
    "vif_exp"
   ]
  },
  {
   "cell_type": "code",
   "execution_count": null,
   "id": "3b43e4f9-5561-4fc4-8742-cfb30bcc80f0",
   "metadata": {},
   "outputs": [],
   "source": [
    "# Removing MEAN_xG because of a strong multicollinearity it causes\n",
    "y, X = dmatrices('PTS ~ MEAN_xGA + value_euro + PPDA + OPPDA + MEAN_DC + MEAN_ODC', data=df[xdependent_var], return_type='dataframe')\n",
    "\n",
    "# Calculating Variance inflation factor\n",
    "vif_exp = pd.DataFrame()\n",
    "vif_exp['VIF'] = [variance_inflation_factor(X.values, i) for i in range(X.shape[1])]\n",
    "vif_exp['variable'] = X.columns\n",
    "vif_exp"
   ]
  },
  {
   "cell_type": "code",
   "execution_count": null,
   "id": "eb360406-a6a6-4cca-90e3-cf4ee716d0ea",
   "metadata": {},
   "outputs": [],
   "source": [
    "# Parameters and regression staistics\n",
    "result = sm.ols(formula=\"PTS ~ MEAN_xGA + value_euro + PPDA + OPPDA + MEAN_DC + MEAN_ODC\", data=df[xdependent_var]).fit()\n",
    "print(result.params)\n",
    "print(result.summary())"
   ]
  },
  {
   "cell_type": "code",
   "execution_count": null,
   "id": "86e894e9-a176-49c2-aa2d-988b70fa44f7",
   "metadata": {},
   "outputs": [],
   "source": [
    "# Removing MEAN_DC because of t-statistics\n",
    "result = sm.ols(formula=\"PTS ~ MEAN_xGA + value_euro + PPDA + OPPDA + MEAN_ODC\", data=df[xdependent_var]).fit()\n",
    "print(result.params)\n",
    "print(result.summary())"
   ]
  },
  {
   "cell_type": "code",
   "execution_count": null,
   "id": "7fa65a03-1564-403d-b50a-71c2536e61de",
   "metadata": {},
   "outputs": [],
   "source": [
    "# Removing value-euro\n",
    "result = sm.ols(formula=\"PTS ~ MEAN_xGA + PPDA + OPPDA + MEAN_ODC\", data=df[xdependent_var]).fit()\n",
    "print(result.params)\n",
    "print(result.summary())"
   ]
  },
  {
   "cell_type": "code",
   "execution_count": null,
   "id": "0b0a0f8f-0037-4d7f-9d98-c4f95ebfcddb",
   "metadata": {},
   "outputs": [],
   "source": [
    "# Testing for Homoscedacity\n",
    "x_var = ['MEAN_xGA', 'PPDA','OPPDA','MEAN_ODC']\n",
    "sma.stats.diagnostic.het_goldfeldquandt(y = df['PTS'], x=df[x_var], drop=0.2)"
   ]
  },
  {
   "cell_type": "code",
   "execution_count": null,
   "id": "b234ebe3-49fe-4c4e-90d8-f299d97be29c",
   "metadata": {},
   "outputs": [],
   "source": [
    "'''\n",
    "real G-MODEL\n",
    "'''"
   ]
  },
  {
   "cell_type": "code",
   "execution_count": null,
   "id": "e1113e68-418c-4eb8-9e1b-062091a408c5",
   "metadata": {},
   "outputs": [],
   "source": [
    "# Heatmapping g-model variables to look for false correlation and multycollinearity\n",
    "sns.heatmap(data = df[rdependent_var].corr(), annot = True)"
   ]
  },
  {
   "cell_type": "code",
   "execution_count": null,
   "id": "fa837b6b-003d-4147-a9dd-b74f07ce0240",
   "metadata": {},
   "outputs": [],
   "source": [
    "# Creating Matrix of multilinear regression with PTS as dependent-variable and others as independent\n",
    "y, X = dmatrices('PTS ~ MEAN_G + MEAN_GA + value_euro + PPDA + OPPDA + MEAN_DC + MEAN_ODC', data=df[rdependent_var], return_type='dataframe')\n",
    "\n",
    "# Calculating Variance inflation factor\n",
    "vif_exp = pd.DataFrame()\n",
    "vif_exp['VIF'] = [variance_inflation_factor(X.values, i) for i in range(X.shape[1])]\n",
    "vif_exp['variable'] = X.columns\n",
    "vif_exp"
   ]
  },
  {
   "cell_type": "code",
   "execution_count": null,
   "id": "5b8e5136-9cbb-4fc6-b012-3a23e5cddcc9",
   "metadata": {},
   "outputs": [],
   "source": [
    "# Removing MEAN_DC because of a strong multicollinearity it causes\n",
    "y, X = dmatrices('PTS ~ MEAN_G + MEAN_GA + value_euro + PPDA + OPPDA + MEAN_ODC', data=df[rdependent_var], return_type='dataframe')\n",
    "\n",
    "# Calculating Variance inflation factor\n",
    "vif_exp = pd.DataFrame()\n",
    "vif_exp['VIF'] = [variance_inflation_factor(X.values, i) for i in range(X.shape[1])]\n",
    "vif_exp['variable'] = X.columns\n",
    "vif_exp"
   ]
  },
  {
   "cell_type": "code",
   "execution_count": null,
   "id": "a3c3adde-66c2-494c-8be1-33fc5d2da204",
   "metadata": {},
   "outputs": [],
   "source": [
    "# Parameters and regression staistics\n",
    "result = sm.ols(formula=\"PTS ~ MEAN_G + MEAN_GA + value_euro + PPDA + OPPDA + MEAN_ODC\", data=df[rdependent_var]).fit()\n",
    "print(result.params)\n",
    "print(result.summary())"
   ]
  },
  {
   "cell_type": "code",
   "execution_count": null,
   "id": "f87507ca-5bf6-40b3-a79b-31eda6c87c83",
   "metadata": {},
   "outputs": [],
   "source": [
    "# Removing OPPDA\n",
    "result = sm.ols(formula=\"PTS ~ MEAN_G + MEAN_GA + value_euro + PPDA + MEAN_ODC\", data=df[rdependent_var]).fit()\n",
    "print(result.params)\n",
    "print(result.summary())"
   ]
  },
  {
   "cell_type": "code",
   "execution_count": null,
   "id": "816f228c-84f9-41cd-aba4-efe3e0a2af0f",
   "metadata": {},
   "outputs": [],
   "source": [
    "# Removing value_euro\n",
    "result = sm.ols(formula=\"PTS ~ MEAN_G + MEAN_GA + PPDA + MEAN_ODC\", data=df[rdependent_var]).fit()\n",
    "print(result.params)\n",
    "print(result.summary())"
   ]
  },
  {
   "cell_type": "code",
   "execution_count": null,
   "id": "3cb97cba-e326-4f0f-b44e-32cbc41f966d",
   "metadata": {},
   "outputs": [],
   "source": [
    "# Removing MEAN_ODC\n",
    "result = sm.ols(formula=\"PTS ~ MEAN_G + MEAN_GA + PPDA \", data=df[rdependent_var]).fit()\n",
    "print(result.params)\n",
    "print(result.summary())"
   ]
  },
  {
   "cell_type": "code",
   "execution_count": null,
   "id": "8fd2d7f4-bfc5-4c66-a682-0200f1976a9d",
   "metadata": {},
   "outputs": [],
   "source": [
    "# Testing for Homoscedacity\n",
    "r_var = ['MEAN_G','MEAN_GA', 'PPDA']\n",
    "sma.stats.diagnostic.het_goldfeldquandt(y = df['PTS'], x=df[r_var], drop=0.2)"
   ]
  }
 ],
 "metadata": {
  "kernelspec": {
   "display_name": "Python 3 (ipykernel)",
   "language": "python",
   "name": "python3"
  },
  "language_info": {
   "codemirror_mode": {
    "name": "ipython",
    "version": 3
   },
   "file_extension": ".py",
   "mimetype": "text/x-python",
   "name": "python",
   "nbconvert_exporter": "python",
   "pygments_lexer": "ipython3",
   "version": "3.9.12"
  }
 },
 "nbformat": 4,
 "nbformat_minor": 5
}
